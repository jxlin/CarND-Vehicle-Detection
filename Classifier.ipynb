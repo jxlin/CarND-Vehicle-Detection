{
 "cells": [
  {
   "cell_type": "markdown",
   "metadata": {
    "deletable": true,
    "editable": true
   },
   "source": [
    "# Train classifier for P5 vehicle finding\n",
    "\n",
    "**Author: olala7846@gmail.com**"
   ]
  },
  {
   "cell_type": "markdown",
   "metadata": {
    "deletable": true,
    "editable": true
   },
   "source": [
    "## Step 1: observe training data"
   ]
  },
  {
   "cell_type": "code",
   "execution_count": 1,
   "metadata": {
    "collapsed": false,
    "deletable": true,
    "editable": true
   },
   "outputs": [
    {
     "name": "stdout",
     "output_type": "stream",
     "text": [
      "Total 8792 vehicle images\n",
      "Total 8968 non-vehicle images\n",
      "There are about the same size of both classes\n",
      "images has shape (64, 64, 3) and dtype uint8\n",
      "Pixel value range approximately from 254 to 12\n"
     ]
    }
   ],
   "source": [
    "# first do some training data observation\n",
    "import numpy as np\n",
    "import cv2\n",
    "import glob\n",
    "import matplotlib.pyplot as plt\n",
    "import random\n",
    "\n",
    "\n",
    "vehicle_imgs = list(glob.glob('./vehicles/**/*.png'))\n",
    "nonvehicle_imgs = list(glob.glob('./non-vehicles/**/*.png'))\n",
    "\n",
    "print('Total %d vehicle images' % len(vehicle_imgs))\n",
    "print('Total %d non-vehicle images' % len(nonvehicle_imgs))\n",
    "print('There are about the same size of both classes')\n",
    "\n",
    "sample_img = random.sample(vehicle_imgs, 1)[0]\n",
    "img = cv2.imread(sample_img)\n",
    "print('images has shape', img.shape, 'and dtype', img.dtype)\n",
    "print('Pixel value range approximately from', np.max(img), 'to', np.min(img))"
   ]
  },
  {
   "cell_type": "markdown",
   "metadata": {
    "deletable": true,
    "editable": true
   },
   "source": [
    "## Step 2: plot and see how training data distributed on different color spaces"
   ]
  },
  {
   "cell_type": "code",
   "execution_count": 2,
   "metadata": {
    "collapsed": false,
    "deletable": true,
    "editable": true
   },
   "outputs": [],
   "source": [
    "# Explore different color space\n",
    "from mpl_toolkits.mplot3d import Axes3D\n",
    "\n",
    "convertors = {\n",
    "    'RGB': cv2.COLOR_BGR2RGB,\n",
    "    'HLS': cv2.COLOR_BGR2HLS,\n",
    "    'YUV': cv2.COLOR_BGR2YUV,\n",
    "    'YCrCb': cv2.COLOR_BGR2YCrCb,\n",
    "    'Lab': cv2.COLOR_BGR2Lab,\n",
    "    'Luv': cv2.COLOR_BGR2Luv,\n",
    "}\n",
    "\n",
    "def plot3d(car_pixels, non_car_pixels):\n",
    "    \"\"\"Plot pixels in 3D\"\"\"\n",
    "    fig = plt.figure(figsize=(8, 8))\n",
    "    ax = Axes3D(fig)\n",
    "    \n",
    "    all_pixels = np.vstack((car_pixels, non_car_pixels))\n",
    "\n",
    "    # Set axis limits\n",
    "    ax.set_xlim(np.min(all_pixels[:, 0]), np.max(all_pixels[:, 0]))\n",
    "    ax.set_ylim(np.min(all_pixels[:, 1]), np.max(all_pixels[:, 1]))\n",
    "    ax.set_zlim(np.min(all_pixels[:, 2]), np.max(all_pixels[:, 2]))\n",
    "\n",
    "    ax.scatter(\n",
    "        car_pixels[:, 0].ravel(),\n",
    "        car_pixels[:, 1].ravel(),\n",
    "        car_pixels[:, 2].ravel(),\n",
    "        c='g', edgecolors='none')\n",
    "\n",
    "    ax.scatter(\n",
    "        non_car_pixels[:, 0].ravel(),\n",
    "        non_car_pixels[:, 1].ravel(),\n",
    "        non_car_pixels[:, 2].ravel(),\n",
    "        c='r', edgecolors='none')\n",
    "    \n",
    "    return ax\n",
    "\n",
    "def observe_colorspace():\n",
    "    sample_car_imgs = random.sample(vehicle_imgs, 100)\n",
    "    sample_noncar_imgs = random.sample(nonvehicle_imgs, 100)\n",
    "\n",
    "    for name, convertor in convertors.items():\n",
    "        car_pixels = []\n",
    "        noncar_pixels = []\n",
    "\n",
    "        samples_per_pic = 10\n",
    "\n",
    "        for car_img in sample_car_imgs:\n",
    "            img = cv2.imread(car_img)\n",
    "            img = cv2.cvtColor(img, convertor)\n",
    "            pixels = np.reshape(img, (-1, 3))\n",
    "            sample_pixels = random.sample(list(pixels), samples_per_pic)\n",
    "            car_pixels.append(sample_pixels)\n",
    "\n",
    "        for noncar_img in sample_noncar_imgs:\n",
    "            img = cv2.imread(noncar_img)\n",
    "            img = cv2.cvtColor(img, convertor)\n",
    "            pixels = np.reshape(img, (-1, 3))\n",
    "            sample_pixels = random.sample(list(pixels), samples_per_pic)\n",
    "            noncar_pixels.append(sample_pixels)\n",
    "\n",
    "        car_pixels = np.vstack(car_pixels)\n",
    "        noncar_pixels = np.vstack(noncar_pixels)\n",
    "\n",
    "        ax = plot3d(car_pixels, noncar_pixels)\n",
    "        plt.title(name)\n",
    "       # plot different view points\n",
    "        for ii in range(0,360,5):\n",
    "            ax.view_init(elev=10., azim=ii)\n",
    "            plt.savefig(\"./color_spaces/%s%d.png\" % (name, ii))\n",
    "        \n",
    "#observe_colorspace()"
   ]
  },
  {
   "cell_type": "markdown",
   "metadata": {
    "deletable": true,
    "editable": true
   },
   "source": [
    "## Step3: Feature extraction"
   ]
  },
  {
   "cell_type": "code",
   "execution_count": 3,
   "metadata": {
    "collapsed": false,
    "deletable": true,
    "editable": true
   },
   "outputs": [
    {
     "name": "stdout",
     "output_type": "stream",
     "text": [
      "reading  ./vehicles/GTI_Far/image0000.png\n",
      "(96,)\n"
     ]
    },
    {
     "data": {
      "image/png": "[encoded data removed]",
      "text/plain": [
       "<matplotlib.figure.Figure at 0x11924a5f8>"
      ]
     },
     "metadata": {},
     "output_type": "display_data"
    }
   ],
   "source": [
    "# Extact color histogram features\n",
    "\n",
    "def color_hist(img, nbins=32, bins_range=(0, 256), color_space='RGB', visualize=False):\n",
    "    convertor = convertors[color_space]\n",
    "    img = cv2.cvtColor(img, convertor)\n",
    "    hist0 = np.histogram(img[:,:,0], bins=nbins, range=bins_range)\n",
    "    hist1 = np.histogram(img[:,:,1], bins=nbins, range=bins_range)\n",
    "    hist2 = np.histogram(img[:,:,2], bins=nbins, range=bins_range)\n",
    "    \n",
    "    features = np.concatenate((hist0[0], hist1[0], hist2[0]))\n",
    "    if visualize:\n",
    "        print(features.shape)\n",
    "        return features, (hist0, hist1, hist2)\n",
    "    else:\n",
    "        return features\n",
    "    \n",
    "img_name = vehicle_imgs[0]\n",
    "print('reading ', img_name)\n",
    "img = cv2.imread(vehicle_imgs[0])\n",
    "\n",
    "features, histograms = color_hist(img, color_space='RGB', visualize=True)\n",
    "hist1, hist2, hist3 = histograms\n",
    "\n",
    "# visualize histogram\n",
    "# calculate bin center\n",
    "bin_edges = hist1[1]\n",
    "bin_centers = (bin_edges[1:] + bin_edges[0:len(bin_edges)-1])/2\n",
    "\n",
    "fig = plt.figure(figsize=(12,3))\n",
    "plt.subplot(131)\n",
    "plt.bar(bin_centers, hist1[0])\n",
    "plt.xlim(0, 256)\n",
    "plt.title('H histogram')\n",
    "plt.subplot(132)\n",
    "plt.bar(bin_centers, hist2[0])\n",
    "plt.xlim(0, 256)\n",
    "plt.title('L hist')\n",
    "plt.subplot(133)\n",
    "plt.bar(bin_centers, hist3[0])\n",
    "plt.xlim(0, 256)\n",
    "plt.title('S histogram')\n",
    "plt.show()"
   ]
  },
  {
   "cell_type": "code",
   "execution_count": 4,
   "metadata": {
    "collapsed": false,
    "deletable": true,
    "editable": true
   },
   "outputs": [
    {
     "name": "stdout",
     "output_type": "stream",
     "text": [
      "reading  ./vehicles/GTI_Far/image0000.png\n",
      "(3072,)\n"
     ]
    }
   ],
   "source": [
    "# Extract spatial bin features\n",
    "\n",
    "def bin_spatial(img, color_space='RGB', size=(32, 32)):\n",
    "    convertor = convertors[color_space]\n",
    "    feature_img = cv2.cvtColor(img, convertor)\n",
    "    features = cv2.resize(feature_img, size).ravel()\n",
    "    return features\n",
    "\n",
    "img_name = vehicle_imgs[0]\n",
    "print('reading ', img_name)\n",
    "img = cv2.imread(vehicle_imgs[0])\n",
    "features = bin_spatial(img)\n",
    "print(features.shape)"
   ]
  },
  {
   "cell_type": "code",
   "execution_count": 5,
   "metadata": {
    "collapsed": false,
    "deletable": true,
    "editable": true
   },
   "outputs": [
    {
     "name": "stdout",
     "output_type": "stream",
     "text": [
      "(8, 8, 1, 1, 9)\n"
     ]
    },
    {
     "data": {
      "image/png": "[encoded data removed]",
      "text/plain": [
       "<matplotlib.figure.Figure at 0x1191533c8>"
      ]
     },
     "metadata": {},
     "output_type": "display_data"
    }
   ],
   "source": [
    "# Extract hog features\n",
    "from skimage.feature import hog\n",
    "\n",
    "def get_hog_features(img, orient=9, pix_per_cell=8, cell_per_block=1, vis=False, feature_vec=False):\n",
    "    return hog(\n",
    "        img, orient, \n",
    "        pixels_per_cell=(pix_per_cell, pix_per_cell),\n",
    "        cells_per_block=(cell_per_block, cell_per_block),\n",
    "        visualise=vis, feature_vector=feature_vec)\n",
    "\n",
    "\n",
    "img = cv2.imread(random.sample(vehicle_imgs, 1)[0])\n",
    "gray = cv2.cvtColor(img, cv2.COLOR_BGR2GRAY)\n",
    "features, hog_image = get_hog_features(gray, vis=True)\n",
    "print(features.shape)\n",
    "fig = plt.figure(figsize=(7,3))\n",
    "plt.subplot(121)\n",
    "plt.imshow(gray, cmap='gray')\n",
    "plt.subplot(122)\n",
    "plt.imshow(hog_image, cmap='gray')\n",
    "plt.show()"
   ]
  },
  {
   "cell_type": "markdown",
   "metadata": {
    "deletable": true,
    "editable": true
   },
   "source": [
    "## Step4: Train classifier on features"
   ]
  },
  {
   "cell_type": "code",
   "execution_count": 6,
   "metadata": {
    "collapsed": false,
    "deletable": true,
    "editable": true
   },
   "outputs": [
    {
     "name": "stdout",
     "output_type": "stream",
     "text": [
      "(17760, 192) (17760,)\n",
      "Finished training after 4 seconds\n",
      "Test Accuracy of SVC =  0.94115990991\n"
     ]
    }
   ],
   "source": [
    "# Test training on color histogram features\n",
    "from sklearn.preprocessing import StandardScaler\n",
    "from sklearn.svm import LinearSVC\n",
    "from sklearn.model_selection import train_test_split\n",
    "import time\n",
    "\n",
    "\n",
    "def extract_features(img):\n",
    "    img = cv2.imread(img)\n",
    "    HLS_features = color_hist(img, color_space='Luv')\n",
    "    YUV_features = color_hist(img, color_space='YCrCb')\n",
    "    return np.concatenate((HLS_features, YUV_features))\n",
    "\n",
    "def train_with_color_hist():\n",
    "    # extract features\n",
    "    car_features = np.array([extract_features(img) for img in vehicle_imgs])\n",
    "    noncar_features= np.array([extract_features(img) for img in nonvehicle_imgs])\n",
    "    X = np.vstack((car_features, noncar_features)).astype(np.float64)\n",
    "    X_scaler = StandardScaler().fit(X)\n",
    "    scaled_X = X_scaler.transform(X)\n",
    "    # define labels\n",
    "    y = np.hstack((np.ones(len(car_features)),\n",
    "                   np.zeros(len(noncar_features))))\n",
    "    print(X.shape, y.shape)\n",
    "\n",
    "    # train test split\n",
    "    rand_state = np.random.randint(0, 100)\n",
    "    X_train, X_test, y_train, y_test = train_test_split(\n",
    "        scaled_X, y, test_size=0.2, random_state=rand_state)\n",
    "\n",
    "    svc = LinearSVC()\n",
    "    t1 = time.time()\n",
    "    svc.fit(X_train, y_train)\n",
    "    t2 = time.time()\n",
    "    print('Finished training after %d seconds' % round(t2-t1, 2))\n",
    "    print('Test Accuracy of SVC = ', svc.score(X_test, y_test))\n",
    "\n",
    "# train_with_color_hist()"
   ]
  },
  {
   "cell_type": "markdown",
   "metadata": {
    "deletable": true,
    "editable": true
   },
   "source": [
    "### Result training SVM with color_hist on different color spaces\n",
    "#### single color space: 96 features\n",
    "| RGB    | HLS    | YUV    | YCrCb  | Lab    | Luv    |\n",
    "|--------|--------|--------|--------|--------|--------|\n",
    "| 0.9003 | 0.9470 | 0.9234 | 0.9214 | 0.9456 | 0.9107 |\n",
    "\n",
    "#### double color space: 192 features\n",
    "| HLS + YUV | YUV + Lab | RGB + Luv | RGB + YCrCb | YCrCb + Luv |\n",
    "|-----------|-----------|-----------|-------------|-------------|\n",
    "| 0.9513    | 0.9488    | 0.9400    | 0.9414      | 0.9335      |\n",
    "\n",
    "Tooks around 4 seconds to train on all data"
   ]
  },
  {
   "cell_type": "code",
   "execution_count": 7,
   "metadata": {
    "collapsed": false,
    "deletable": true,
    "editable": true
   },
   "outputs": [
    {
     "name": "stdout",
     "output_type": "stream",
     "text": [
      "(17760, 192) (17760,)\n",
      "Finished training after 8 seconds\n",
      "Test Accuracy of SVC =  0.891047297297\n"
     ]
    }
   ],
   "source": [
    "# Test training on bin_spatial features with SVM\n",
    "from sklearn.preprocessing import StandardScaler\n",
    "from sklearn.svm import LinearSVC\n",
    "from sklearn.model_selection import train_test_split\n",
    "import time\n",
    "\n",
    "\n",
    "def extract_features(img, color_space='RGB'):\n",
    "    img = cv2.imread(img)\n",
    "    features = bin_spatial(img, color_space=color_space, size=(8, 8))\n",
    "    return features\n",
    "    \n",
    "def train_with_bin_hist():\n",
    "    # extract features\n",
    "    car_features = np.array([extract_features(img) for img in vehicle_imgs])\n",
    "    noncar_features= np.array([extract_features(img) for img in nonvehicle_imgs])\n",
    "    X = np.vstack((car_features, noncar_features)).astype(np.float64)\n",
    "    X_scaler = StandardScaler().fit(X)\n",
    "    scaled_X = X_scaler.transform(X)\n",
    "    # define labels\n",
    "    y = np.hstack((np.ones(len(car_features)),\n",
    "                   np.zeros(len(noncar_features))))\n",
    "    print(X.shape, y.shape)\n",
    "\n",
    "    # train test split\n",
    "    rand_state = np.random.randint(0, 100)\n",
    "    X_train, X_test, y_train, y_test = train_test_split(\n",
    "        scaled_X, y, test_size=0.2, random_state=rand_state)\n",
    "\n",
    "    svc = LinearSVC()\n",
    "    t1 = time.time()\n",
    "    svc.fit(X_train, y_train)\n",
    "    t2 = time.time()\n",
    "    print('Finished training after %d seconds' % round(t2-t1, 2))\n",
    "    print('Test Accuracy of SVC = ', svc.score(X_test, y_test))\n",
    "    \n",
    "# train_with_bin_hist()"
   ]
  },
  {
   "cell_type": "markdown",
   "metadata": {
    "deletable": true,
    "editable": true
   },
   "source": [
    "### Result training SVM with bin_spatial on different color spaces\n",
    "####  (16x16) single color space: 96 features  (took around 17 seconds to train)\n",
    "| RGB    | HLS    | YUV    | YCrCb  | Lab    | Luv    |\n",
    "|--------|--------|--------|--------|--------|--------|\n",
    "| 0.9183 | 0.8978 | 0.9155 | 0.9133 | 0.9240 | 0.9223 |\n",
    "\n",
    "####  (8x8) single color space: 96 features  (took around 8 seconds to train)\n",
    "| RGB    | HLS    | YUV    | YCrCb  | Lab    | Luv    |\n",
    "|--------|--------|--------|--------|--------|--------|\n",
    "| 0.8989 | 0.8612 | 0.9040 | 0.9009 | 0.9091 | 0.9023 |"
   ]
  },
  {
   "cell_type": "code",
   "execution_count": 8,
   "metadata": {
    "collapsed": false,
    "deletable": true,
    "editable": true
   },
   "outputs": [
    {
     "name": "stdout",
     "output_type": "stream",
     "text": [
      "(17760, 1728) (17760,)\n",
      "Finished training after 4 seconds\n",
      "Test Accuracy of SVC =  0.98338963964\n"
     ]
    }
   ],
   "source": [
    "# Test training on bin_spatial features with SVM\n",
    "def extract_features(img, color_space='YCrCb'):\n",
    "    img = cv2.imread(img)\n",
    "    convertor = convertors[color_space]\n",
    "    yuv_img = cv2.cvtColor(img, convertor)\n",
    "    channel1 = get_hog_features(yuv_img[:,:,0]).ravel()\n",
    "    channel2 = get_hog_features(yuv_img[:,:,1]).ravel()\n",
    "    channel3 = get_hog_features(yuv_img[:,:,2]).ravel()\n",
    "\n",
    "    return np.concatenate((channel1, channel2, channel3))\n",
    "\n",
    "\n",
    "def train_with_hog_features():\n",
    "    car_features = np.array([extract_features(img) for img in vehicle_imgs])\n",
    "    noncar_features= np.array([extract_features(img) for img in nonvehicle_imgs])\n",
    "\n",
    "    # define labels\n",
    "    X = np.vstack((car_features, noncar_features)).astype(np.float64)\n",
    "    X_scaler = StandardScaler().fit(X)\n",
    "    scaled_X = X_scaler.transform(X)\n",
    "\n",
    "    y = np.hstack((np.ones(len(car_features)),\n",
    "                   np.zeros(len(noncar_features))))\n",
    "    print(X.shape, y.shape)\n",
    "\n",
    "    # train test split\n",
    "    rand_state = np.random.randint(0, 100)\n",
    "    X_train, X_test, y_train, y_test = train_test_split(\n",
    "        scaled_X, y, test_size=0.2, random_state=rand_state)\n",
    "\n",
    "    svc = LinearSVC()\n",
    "    t1 = time.time()\n",
    "    svc.fit(X_train, y_train)\n",
    "    t2 = time.time()\n",
    "    print('Finished training after %d seconds' % round(t2-t1, 2))\n",
    "    print('Test Accuracy of SVC = ', svc.score(X_test, y_test))\n",
    "    \n",
    "# train_with_hog_features()"
   ]
  },
  {
   "cell_type": "markdown",
   "metadata": {
    "deletable": true,
    "editable": true
   },
   "source": [
    "## Some experiment on HOG features\n",
    "| Color space | Accuracy |\n",
    "|-------------|----------|\n",
    "| Gray        | 0.9555   |\n",
    "| H(HLS)      | 0.9203   |\n",
    "| L(HLS)      | 0.9484   |\n",
    "| S(HLS)      | 0.9031   |\n",
    "| Y(YUV)      | 0.9527   |\n",
    "| U(YUV)      | 0.9304   |\n",
    "| V(YUV)      | 0.9020   |\n",
    "| Y(YCrCb)    | 0.9518   |\n",
    "| Cr(YCrCb)   | 0.9256   |\n",
    "| Cb(YCrCb)   | 0.9090   |\n",
    "| YCrCb(All)  | 0.9887   |\n",
    "\n",
    "| Color space | Accuracy |\n",
    "|-------------|----------|\n",
    "| RGB(All)    | 0.9653   |\n",
    "| HLS(All)    | 0.9828   |\n",
    "| YUV(All)    | 0.9882   |\n",
    "| YCrCb(All)  | 0.9884   |\n",
    "| Lab(All)    | 0.9870   |\n",
    "| Luv(All)    | 0.9825   |\n"
   ]
  },
  {
   "cell_type": "markdown",
   "metadata": {
    "deletable": true,
    "editable": true
   },
   "source": [
    "## Step 5: Combine all features\n",
    "\n"
   ]
  },
  {
   "cell_type": "code",
   "execution_count": 9,
   "metadata": {
    "collapsed": false,
    "deletable": true,
    "editable": true
   },
   "outputs": [
    {
     "name": "stdout",
     "output_type": "stream",
     "text": [
      "(17760, 1728) (17760,)\n"
     ]
    }
   ],
   "source": [
    "# feature selection\n",
    "from sklearn.feature_selection import SelectFromModel\n",
    "import time\n",
    "\n",
    "\n",
    "def extract_features(img, color_space='Luv'):\n",
    "    img = cv2.imread(img)\n",
    "    yuv_img = cv2.cvtColor(img, cv2.COLOR_BGR2YUV)\n",
    "    channel1 = get_hog_features(yuv_img[:,:,0]).ravel()\n",
    "    channel2 = get_hog_features(yuv_img[:,:,1]).ravel()\n",
    "    channel3 = get_hog_features(yuv_img[:,:,2]).ravel()\n",
    "\n",
    "    return np.concatenate((channel1, channel2, channel3))\n",
    "\n",
    "car_features = np.array([extract_features(img) for img in vehicle_imgs])\n",
    "noncar_features= np.array([extract_features(img) for img in nonvehicle_imgs])\n",
    "\n",
    "# define features\n",
    "X = np.vstack((car_features, noncar_features)).astype(np.float64)\n",
    "X_scaler = StandardScaler().fit(X)\n",
    "scaled_X = X_scaler.transform(X)\n",
    "# define labels\n",
    "y = np.hstack((np.ones(len(car_features)),\n",
    "               np.zeros(len(noncar_features))))\n",
    "print(X.shape, y.shape)"
   ]
  },
  {
   "cell_type": "markdown",
   "metadata": {
    "deletable": true,
    "editable": true
   },
   "source": [
    "## Feature selection using devision tree\n",
    "from 8460 features to 139 features"
   ]
  },
  {
   "cell_type": "code",
   "execution_count": 10,
   "metadata": {
    "collapsed": false,
    "deletable": true,
    "editable": true
   },
   "outputs": [
    {
     "name": "stdout",
     "output_type": "stream",
     "text": [
      "Test Accuracy of SVC1 =  0.981981981982\n",
      "5.19 Seconds to train SVC...\n",
      "0.01 Seconds to score SVC...\n"
     ]
    }
   ],
   "source": [
    "from sklearn.svm import SVC\n",
    "from sklearn.tree import DecisionTreeClassifier\n",
    "\n",
    "rand_state = np.random.randint(0, 100)\n",
    "X_train, X_test, y_train, y_test = train_test_split(\n",
    "    scaled_X, y, test_size=0.2, random_state=rand_state)\n",
    "\n",
    "t = time.time()\n",
    "svc1 = LinearSVC()\n",
    "svc1.fit(X_train, y_train)\n",
    "t2 = time.time()\n",
    "print('Test Accuracy of SVC1 = ', svc1.score(X_test, y_test))\n",
    "t3 = time.time()\n",
    "print(round(t2-t, 2), 'Seconds to train SVC...')\n",
    "print(round(t3-t2, 2), 'Seconds to score SVC...')\n",
    "\n",
    "# tree_clf = DecisionTreeClassifier()\n",
    "# tree_clf.fit(X_train, y_train)\n",
    "\n",
    "# print('Feature selection with decision tree')\n",
    "# feature_select = SelectFromModel(tree_clf, prefit=True)\n",
    "# X_train_new = feature_select.transform(X_train)\n",
    "# X_test_new = feature_select.transform(X_test)\n",
    "# print(X_train.shape)\n",
    "# print(X_train_new.shape)\n",
    "\n",
    "# t = time.time()\n",
    "# svc2 = LinearSVC()\n",
    "# svc2.fit(X_train_new, y_train)\n",
    "# t2 = time.time()\n",
    "# print('Test Accuracy of SVC2 = ', svc2.score(X_test_new, y_test))\n",
    "# t3 = time.time()\n",
    "# print(round(t2-t, 2), 'Seconds to train SVC2...')\n",
    "# print(round(t3-t2, 2), 'Seconds to score SVC...')"
   ]
  },
  {
   "cell_type": "code",
   "execution_count": 11,
   "metadata": {
    "collapsed": false,
    "deletable": true,
    "editable": true
   },
   "outputs": [
    {
     "name": "stdout",
     "output_type": "stream",
     "text": [
      "StandardScaler(copy=True, with_mean=True, with_std=True)\n",
      "LinearSVC(C=1.0, class_weight=None, dual=True, fit_intercept=True,\n",
      "     intercept_scaling=1, loss='squared_hinge', max_iter=1000,\n",
      "     multi_class='ovr', penalty='l2', random_state=None, tol=0.0001,\n",
      "     verbose=0)\n"
     ]
    }
   ],
   "source": [
    "import pickle\n",
    "data = {\n",
    "#     'feature_select': feature_select,\n",
    "    'classifier1': svc1,\n",
    "#     'classifier2': svc2,\n",
    "    'X_scaler': X_scaler,\n",
    "}\n",
    "\n",
    "print(X_scaler)\n",
    "print(svc1)\n",
    "\n",
    "filename = 'classifier.pkl'\n",
    "with open(filename, 'wb') as f:\n",
    "    pickle.dump(data, f)"
   ]
  }
 ],
 "metadata": {
  "kernelspec": {
   "display_name": "Python 3",
   "language": "python",
   "name": "python3"
  },
  "language_info": {
   "codemirror_mode": {
    "name": "ipython",
    "version": 3
   },
   "file_extension": ".py",
   "mimetype": "text/x-python",
   "name": "python",
   "nbconvert_exporter": "python",
   "pygments_lexer": "ipython3",
   "version": "3.5.2"
  },
  "widgets": {
   "state": {},
   "version": "1.1.2"
  }
 },
 "nbformat": 4,
 "nbformat_minor": 2
}
