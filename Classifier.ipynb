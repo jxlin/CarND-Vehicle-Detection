{
 "cells": [
  {
   "cell_type": "markdown",
   "metadata": {
    "deletable": true,
    "editable": true
   },
   "source": [
    "# Train classifier for P5 vehicle finding\n",
    "\n",
    "**Author: olala7846@gmail.com**"
   ]
  },
  {
   "cell_type": "markdown",
   "metadata": {
    "deletable": true,
    "editable": true
   },
   "source": [
    "## Step 1: observe training data"
   ]
  },
  {
   "cell_type": "code",
   "execution_count": 1,
   "metadata": {
    "collapsed": false,
    "deletable": true,
    "editable": true
   },
   "outputs": [
    {
     "name": "stdout",
     "output_type": "stream",
     "text": [
      "Total 8792 vehicle images\n",
      "Total 8968 non-vehicle images\n",
      "There are about the same size of both classes\n",
      "images has shape (64, 64, 3) and dtype uint8\n",
      "Pixel value range approximately from 255 to 4\n"
     ]
    }
   ],
   "source": [
    "# first do some training data observation\n",
    "import numpy as np\n",
    "import cv2\n",
    "import glob\n",
    "import matplotlib.pyplot as plt\n",
    "import random\n",
    "\n",
    "\n",
    "vehicle_imgs = list(glob.glob('./vehicles/**/*.png'))\n",
    "nonvehicle_imgs = list(glob.glob('./non-vehicles/**/*.png'))\n",
    "\n",
    "print('Total %d vehicle images' % len(vehicle_imgs))\n",
    "print('Total %d non-vehicle images' % len(nonvehicle_imgs))\n",
    "print('There are about the same size of both classes')\n",
    "\n",
    "sample_img = random.sample(vehicle_imgs, 1)[0]\n",
    "img = cv2.imread(sample_img)\n",
    "print('images has shape', img.shape, 'and dtype', img.dtype)\n",
    "print('Pixel value range approximately from', np.max(img), 'to', np.min(img))"
   ]
  },
  {
   "cell_type": "markdown",
   "metadata": {
    "deletable": true,
    "editable": true
   },
   "source": [
    "## Step 2: plot and see how training data distributed on different color spaces"
   ]
  },
  {
   "cell_type": "code",
   "execution_count": 2,
   "metadata": {
    "collapsed": false,
    "deletable": true,
    "editable": true
   },
   "outputs": [],
   "source": [
    "# Explore different color space\n",
    "from mpl_toolkits.mplot3d import Axes3D\n",
    "\n",
    "convertors = {\n",
    "    'RGB': cv2.COLOR_BGR2RGB,\n",
    "    'HLS': cv2.COLOR_BGR2HLS,\n",
    "    'YUV': cv2.COLOR_BGR2YUV,\n",
    "    'YCrCb': cv2.COLOR_BGR2YCrCb,\n",
    "    'Lab': cv2.COLOR_BGR2Lab,\n",
    "    'Luv': cv2.COLOR_BGR2Luv,\n",
    "}\n",
    "\n",
    "def plot3d(car_pixels, non_car_pixels):\n",
    "    \"\"\"Plot pixels in 3D\"\"\"\n",
    "    fig = plt.figure(figsize=(8, 8))\n",
    "    ax = Axes3D(fig)\n",
    "    \n",
    "    all_pixels = np.vstack((car_pixels, non_car_pixels))\n",
    "\n",
    "    # Set axis limits\n",
    "    ax.set_xlim(np.min(all_pixels[:, 0]), np.max(all_pixels[:, 0]))\n",
    "    ax.set_ylim(np.min(all_pixels[:, 1]), np.max(all_pixels[:, 1]))\n",
    "    ax.set_zlim(np.min(all_pixels[:, 2]), np.max(all_pixels[:, 2]))\n",
    "\n",
    "    ax.scatter(\n",
    "        car_pixels[:, 0].ravel(),\n",
    "        car_pixels[:, 1].ravel(),\n",
    "        car_pixels[:, 2].ravel(),\n",
    "        c='g', edgecolors='none')\n",
    "\n",
    "    ax.scatter(\n",
    "        non_car_pixels[:, 0].ravel(),\n",
    "        non_car_pixels[:, 1].ravel(),\n",
    "        non_car_pixels[:, 2].ravel(),\n",
    "        c='r', edgecolors='none')\n",
    "    \n",
    "    return ax\n",
    "\n",
    "def observe_colorspace():\n",
    "    sample_car_imgs = random.sample(vehicle_imgs, 100)\n",
    "    sample_noncar_imgs = random.sample(nonvehicle_imgs, 100)\n",
    "\n",
    "    for name, convertor in convertors.items():\n",
    "        car_pixels = []\n",
    "        noncar_pixels = []\n",
    "\n",
    "        samples_per_pic = 10\n",
    "\n",
    "        for car_img in sample_car_imgs:\n",
    "            img = cv2.imread(car_img)\n",
    "            img = cv2.cvtColor(img, convertor)\n",
    "            pixels = np.reshape(img, (-1, 3))\n",
    "            sample_pixels = random.sample(list(pixels), samples_per_pic)\n",
    "            car_pixels.append(sample_pixels)\n",
    "\n",
    "        for noncar_img in sample_noncar_imgs:\n",
    "            img = cv2.imread(noncar_img)\n",
    "            img = cv2.cvtColor(img, convertor)\n",
    "            pixels = np.reshape(img, (-1, 3))\n",
    "            sample_pixels = random.sample(list(pixels), samples_per_pic)\n",
    "            noncar_pixels.append(sample_pixels)\n",
    "\n",
    "        car_pixels = np.vstack(car_pixels)\n",
    "        noncar_pixels = np.vstack(noncar_pixels)\n",
    "\n",
    "        ax = plot3d(car_pixels, noncar_pixels)\n",
    "        plt.title(name)\n",
    "       # plot different view points\n",
    "        for ii in range(0,360,5):\n",
    "            ax.view_init(elev=10., azim=ii)\n",
    "            plt.savefig(\"./color_spaces/%s%d.png\" % (name, ii))\n",
    "        \n",
    "#observe_colorspace()"
   ]
  },
  {
   "cell_type": "markdown",
   "metadata": {
    "deletable": true,
    "editable": true
   },
   "source": [
    "## Step3: Feature extraction"
   ]
  },
  {
   "cell_type": "code",
   "execution_count": 3,
   "metadata": {
    "collapsed": false,
    "deletable": true,
    "editable": true
   },
   "outputs": [
    {
     "name": "stdout",
     "output_type": "stream",
     "text": [
      "reading  ./vehicles/GTI_Far/image0000.png\n",
      "(384,)\n"
     ]
    },
    {
     "data": {
      "image/png": "[encoded data removed]",
      "text/plain": [
       "<matplotlib.figure.Figure at 0x112d662e8>"
      ]
     },
     "metadata": {},
     "output_type": "display_data"
    }
   ],
   "source": [
    "# Extact color histogram features\n",
    "\n",
    "def color_hist(img, nbins=128, bins_range=(0, 256), visualize=False):\n",
    "    channel1 = np.histogram(img[:,:,0], bins=nbins, range=bins_range)\n",
    "    channel2 = np.histogram(img[:,:,1], bins=nbins, range=bins_range)\n",
    "    channel3 = np.histogram(img[:,:,2], bins=nbins, range=bins_range)\n",
    "    \n",
    "    features = np.concatenate((channel1[0], channel2[0], channel3[0]))\n",
    "    if visualize:\n",
    "        print(features.shape)\n",
    "        return features, (channel1, channel2, channel3)\n",
    "    else:\n",
    "        return features\n",
    "    \n",
    "img_name = vehicle_imgs[0]\n",
    "print('reading ', img_name)\n",
    "img = cv2.imread(vehicle_imgs[0])\n",
    "\n",
    "features, histograms = color_hist(img, visualize=True)\n",
    "hist1, hist2, hist3 = histograms\n",
    "\n",
    "# visualize histogram\n",
    "# calculate bin center\n",
    "bin_edges = hist1[1]\n",
    "bin_centers = (bin_edges[1:] + bin_edges[0:len(bin_edges)-1])/2\n",
    "\n",
    "fig = plt.figure(figsize=(12,3))\n",
    "plt.subplot(131)\n",
    "plt.bar(bin_centers, hist1[0])\n",
    "plt.xlim(0, 256)\n",
    "plt.title('H histogram')\n",
    "plt.subplot(132)\n",
    "plt.bar(bin_centers, hist2[0])\n",
    "plt.xlim(0, 256)\n",
    "plt.title('L hist')\n",
    "plt.subplot(133)\n",
    "plt.bar(bin_centers, hist3[0])\n",
    "plt.xlim(0, 256)\n",
    "plt.title('S histogram')\n",
    "plt.show()"
   ]
  },
  {
   "cell_type": "code",
   "execution_count": 4,
   "metadata": {
    "collapsed": false,
    "deletable": true,
    "editable": true
   },
   "outputs": [
    {
     "name": "stdout",
     "output_type": "stream",
     "text": [
      "reading  ./vehicles/GTI_Far/image0000.png\n",
      "(768,)\n"
     ]
    }
   ],
   "source": [
    "# Extract spatial bin features\n",
    "\n",
    "def bin_spatial(img, size=(16, 16)):\n",
    "    resize_img = cv2.resize(img, size)\n",
    "    color1 = resize_img[:,:,0].ravel()\n",
    "    color2 = resize_img[:,:,1].ravel()\n",
    "    color3 = resize_img[:,:,2].ravel()\n",
    "    features = np.hstack((color1, color2, color3))\n",
    "    return features\n",
    "\n",
    "img_name = vehicle_imgs[0]\n",
    "print('reading ', img_name)\n",
    "img = cv2.imread(vehicle_imgs[0])\n",
    "features = bin_spatial(img)\n",
    "print(features.shape)"
   ]
  },
  {
   "cell_type": "code",
   "execution_count": 5,
   "metadata": {
    "collapsed": false,
    "deletable": true,
    "editable": true
   },
   "outputs": [
    {
     "name": "stdout",
     "output_type": "stream",
     "text": [
      "(7, 7, 2, 2, 9)\n"
     ]
    },
    {
     "data": {
      "image/png": "[encoded data removed]",
      "text/plain": [
       "<matplotlib.figure.Figure at 0x112d4da20>"
      ]
     },
     "metadata": {},
     "output_type": "display_data"
    }
   ],
   "source": [
    "# Extract hog features\n",
    "from skimage.feature import hog\n",
    "\n",
    "def get_hog_features(img, orient=9, pix_per_cell=8, cell_per_block=2, vis=False, feature_vec=False):\n",
    "    return hog(\n",
    "        img, orient, \n",
    "        pixels_per_cell=(pix_per_cell, pix_per_cell),\n",
    "        cells_per_block=(cell_per_block, cell_per_block),\n",
    "        visualise=vis, feature_vector=feature_vec)\n",
    "\n",
    "\n",
    "img = cv2.imread(random.sample(vehicle_imgs, 1)[0])\n",
    "gray = cv2.cvtColor(img, cv2.COLOR_BGR2GRAY)\n",
    "features, hog_image = get_hog_features(gray, vis=True)\n",
    "print(features.shape)\n",
    "fig = plt.figure(figsize=(7,3))\n",
    "plt.subplot(121)\n",
    "plt.imshow(gray, cmap='gray')\n",
    "plt.subplot(122)\n",
    "plt.imshow(hog_image, cmap='gray')\n",
    "plt.show()"
   ]
  },
  {
   "cell_type": "markdown",
   "metadata": {
    "deletable": true,
    "editable": true
   },
   "source": [
    "## Step4: Train classifier on features"
   ]
  },
  {
   "cell_type": "code",
   "execution_count": 6,
   "metadata": {
    "collapsed": false,
    "deletable": true,
    "editable": true
   },
   "outputs": [],
   "source": [
    "# Test training on color histogram features\n",
    "from sklearn.preprocessing import StandardScaler\n",
    "from sklearn.svm import LinearSVC\n",
    "from sklearn.model_selection import train_test_split\n",
    "import time\n",
    "\n",
    "nbins = 128\n",
    "\n",
    "def extract_features(img, cspace='RGB'):\n",
    "    img = cv2.imread(img)\n",
    "    convertor = convertors[cspace]\n",
    "    cvt_img = cv2.cvtColor(img, convertor)\n",
    "    features = color_hist(cvt_img, nbins=nbins)\n",
    "    return features\n",
    "\n",
    "def train_with_color_hist(cspace):\n",
    "    # extract features\n",
    "    print(cspace, ':')\n",
    "    car_features = np.array([extract_features(img, cspace=cspace) for img in vehicle_imgs])\n",
    "    noncar_features= np.array([extract_features(img, cspace=cspace) for img in nonvehicle_imgs])\n",
    "    X = np.vstack((car_features, noncar_features)).astype(np.float64)\n",
    "    X_scaler = StandardScaler().fit(X)\n",
    "    scaled_X = X_scaler.transform(X)\n",
    "    # define labels\n",
    "    y = np.hstack((np.ones(len(car_features)),\n",
    "                   np.zeros(len(noncar_features))))\n",
    "\n",
    "    # train test split\n",
    "    rand_state = np.random.randint(0, 100)\n",
    "    X_train, X_test, y_train, y_test = train_test_split(\n",
    "        scaled_X, y, test_size=0.2, random_state=rand_state)\n",
    "\n",
    "    svc = LinearSVC()\n",
    "    t1 = time.time()\n",
    "    svc.fit(X_train, y_train)\n",
    "    t2 = time.time()\n",
    "    duration = round(t2-t1, 2)\n",
    "    accuracy = svc.score(X_test, y_test)\n",
    "    print('| %s | %.2f | %.4f |' % (cspace, duration, accuracy))\n",
    "\n",
    "# for key in convertors:\n",
    "#     train_with_color_hist(cspace=key)"
   ]
  },
  {
   "cell_type": "markdown",
   "metadata": {
    "deletable": true,
    "editable": true
   },
   "source": [
    "### Result training SVM with color_hist on different color spaces\n",
    "\n",
    "#### All channel (256 bins) color histogram\n",
    "| Color space | Time to train | Accuracy | \n",
    "|-----|--------|------|\n",
    "| HLS | 13.46 | 0.9561 |\n",
    "| RGB | 19.49 | 0.9150 |\n",
    "| Luv | 12.91 | 0.9271 |\n",
    "| YCrCb | 14.59 | 0.9414 |\n",
    "| YUV | 14.76 | 0.9378 |\n",
    "| Lab | 9.44 | 0.9513 |\n",
    "\n",
    "#### All channel (128 bins) color histogram\n",
    "| Color space | Time to train | Accuracy | \n",
    "|-----|--------|------|\n",
    "| HLS | 4.81 | 0.9659 |\n",
    "| RGB | 8.95 | 0.9223 |\n",
    "| Luv | 6.57 | 0.9398 |\n",
    "| YCrCb | 6.89 | 0.9440 |\n",
    "| YUV | 7.18 | 0.9324 |\n",
    "| Lab | 4.91 | 0.9513 |\n",
    "\n",
    "\n",
    "#### All channel (64 bins) color histogram\n",
    "| Color space | Time to train | Accuracy | \n",
    "|-----|--------|------|\n",
    "| HLS | 5.6200 | 0.96 |\n",
    "| RGB | 5.9900 | 0.92 |\n",
    "| Luv | 5.3000 | 0.93 |\n",
    "| YCrCb | 5.2800 | 0.93 |\n",
    "| YUV | 5.0400 | 0.92 |\n",
    "| Lab | 4.8900 | 0.95 |\n",
    "\n",
    "\n",
    "#### All channel (32 bins) color histogram\n",
    "| Color space | Time to train | Accuracy | \n",
    "|-----|--------|------|\n",
    "| HLS | 3.2300 | 0.95 |\n",
    "| RGB | 3.9500 | 0.91 |\n",
    "| Luv | 4.5800 | 0.91 |\n",
    "| YCrCb | 6.4900 | 0.92 |\n",
    "| YUV | 5.0900 | 0.91 |\n",
    "| Lab | 4.2200 | 0.94 |\n",
    "\n",
    "#### All channel (16 bins) color histogram\n",
    "| Color space | Time to train | Accuracy | \n",
    "|-----|--------|------|\n",
    "| HLS | 2.4800 | 0.93 |\n",
    "| RGB | 2.7300 | 0.89 |\n",
    "| Luv | 1.9300 | 0.90 |\n",
    "| YCrCb | 3.6600 | 0.89 |\n",
    "| YUV | 2.2900 | 0.88 |\n",
    "| Lab | 2.3000 | 0.90 |\n"
   ]
  },
  {
   "cell_type": "code",
   "execution_count": 7,
   "metadata": {
    "collapsed": false,
    "deletable": true,
    "editable": true
   },
   "outputs": [],
   "source": [
    "# Test training on bin_spatial features with SVM\n",
    "from sklearn.preprocessing import StandardScaler\n",
    "from sklearn.svm import LinearSVC\n",
    "from sklearn.model_selection import train_test_split\n",
    "import time\n",
    "\n",
    "size=(16, 16)\n",
    "\n",
    "def extract_features(img, cspace='RGB'):\n",
    "    img = cv2.imread(img)\n",
    "    convertor = convertors[cspace]\n",
    "    cvt_img = cv2.cvtColor(img, convertor)\n",
    "    features = bin_spatial(cvt_img, size=size)\n",
    "    return features\n",
    "\n",
    "\n",
    "def train_with_bin_hist(cspace='RGB'):\n",
    "    print(cspace, ':')\n",
    "    # extract features\n",
    "    car_features = np.array([extract_features(img, cspace=cspace) for img in vehicle_imgs])\n",
    "    noncar_features= np.array([extract_features(img, cspace=cspace) for img in nonvehicle_imgs])\n",
    "    X = np.vstack((car_features, noncar_features)).astype(np.float64)\n",
    "    X_scaler = StandardScaler().fit(X)\n",
    "    scaled_X = X_scaler.transform(X)\n",
    "    # define labels\n",
    "    y = np.hstack((np.ones(len(car_features)),\n",
    "                   np.zeros(len(noncar_features))))\n",
    "\n",
    "    # train test split\n",
    "    rand_state = np.random.randint(0, 100)\n",
    "    X_train, X_test, y_train, y_test = train_test_split(\n",
    "        scaled_X, y, test_size=0.2, random_state=rand_state)\n",
    "\n",
    "    svc = LinearSVC()\n",
    "    t1 = time.time()\n",
    "    svc.fit(X_train, y_train)\n",
    "    t2 = time.time()\n",
    "    \n",
    "    duration = round(t2-t1, 2)\n",
    "    accuracy = svc.score(X_test, y_test)\n",
    "    print('| %s | %.2f | %.4f |' % (cspace, duration, accuracy))\n",
    "    \n",
    "# for key in convertors:\n",
    "#     train_with_bin_hist(cspace=key)"
   ]
  },
  {
   "cell_type": "markdown",
   "metadata": {
    "deletable": true,
    "editable": true
   },
   "source": [
    "### Result training SVM with bin_spatial on different color spaces\n",
    "\n",
    "#### (32x32) full color channel spatial bin \n",
    "\n",
    "| Color space | Time to train | Accuracy | \n",
    "|-----|---------|------|\n",
    "| HLS | 50.7900 | 0.88 |\n",
    "| RGB | 63.6400 | 0.91 |\n",
    "| Luv | 48.8200 | 0.89 |\n",
    "| YCrCb | 44.7200 | 0.91 |\n",
    "| YUV | 44.1500 | 0.90 |\n",
    "| Lab | 35.0900 | 0.92 |\n",
    "\n",
    "#### (16x16) full color channel spatial bin \n",
    "It is actually doing better than 32x32 !!!\n",
    "\n",
    "| Color space | Time to train | Accuracy | \n",
    "|-----|---------|------|\n",
    "| HLS | 21.0200 | 0.91 |\n",
    "| RGB | 21.8800 | 0.92 |\n",
    "| Luv | 20.4100 | 0.92 |\n",
    "| YCrCb | 19.7900 | 0.92 |\n",
    "| YUV | 19.6800 | 0.91 |\n",
    "| Lab | 24.8900 | 0.93 |\n",
    "\n",
    "#### (8x8) full color channel spatial bin \n",
    "\n",
    "| Color space | Time to train | Accuracy | \n",
    "|-----|---------|------|\n",
    "| HLS | 8.9500 | 0.87 |\n",
    "| RGB | 8.2100 | 0.90 |\n",
    "| Luv | 7.3400 | 0.89 |\n",
    "| YCrCb | 7.6800 | 0.90 |\n",
    "| YUV | 7.7800 | 0.90 |\n",
    "| Lab | 7.0500 | 0.90 |"
   ]
  },
  {
   "cell_type": "code",
   "execution_count": 8,
   "metadata": {
    "collapsed": false,
    "deletable": true,
    "editable": true
   },
   "outputs": [
    {
     "name": "stdout",
     "output_type": "stream",
     "text": [
      "{'cell_per_block': 2, 'pix_per_cell': 8, 'orient': 9}\n",
      "| RGB | 35.25 | 0.9707 |\n"
     ]
    },
    {
     "ename": "KeyboardInterrupt",
     "evalue": "",
     "output_type": "error",
     "traceback": [
      "\u001b[0;31m----------------------------------------------------------------------\u001b[0m",
      "\u001b[0;31mKeyboardInterrupt\u001b[0m                    Traceback (most recent call last)",
      "\u001b[0;32m<ipython-input-8-8ae8caff967b>\u001b[0m in \u001b[0;36m<module>\u001b[0;34m()\u001b[0m\n\u001b[1;32m     47\u001b[0m \u001b[0mprint\u001b[0m\u001b[0;34m(\u001b[0m\u001b[0mhog_kwargs\u001b[0m\u001b[0;34m)\u001b[0m\u001b[0;34m\u001b[0m\u001b[0m\n\u001b[1;32m     48\u001b[0m \u001b[0;32mfor\u001b[0m \u001b[0mkey\u001b[0m \u001b[0;32min\u001b[0m \u001b[0mconvertors\u001b[0m\u001b[0;34m:\u001b[0m\u001b[0;34m\u001b[0m\u001b[0m\n\u001b[0;32m---> 49\u001b[0;31m     \u001b[0mtrain_with_hog_features\u001b[0m\u001b[0;34m(\u001b[0m\u001b[0mcspace\u001b[0m\u001b[0;34m=\u001b[0m\u001b[0mkey\u001b[0m\u001b[0;34m)\u001b[0m\u001b[0;34m\u001b[0m\u001b[0m\n\u001b[0m",
      "\u001b[0;32m<ipython-input-8-8ae8caff967b>\u001b[0m in \u001b[0;36mtrain_with_hog_features\u001b[0;34m(cspace)\u001b[0m\n\u001b[1;32m     25\u001b[0m     \u001b[0mX\u001b[0m \u001b[0;34m=\u001b[0m \u001b[0mnp\u001b[0m\u001b[0;34m.\u001b[0m\u001b[0mvstack\u001b[0m\u001b[0;34m(\u001b[0m\u001b[0;34m(\u001b[0m\u001b[0mcar_features\u001b[0m\u001b[0;34m,\u001b[0m \u001b[0mnoncar_features\u001b[0m\u001b[0;34m)\u001b[0m\u001b[0;34m)\u001b[0m\u001b[0;34m.\u001b[0m\u001b[0mastype\u001b[0m\u001b[0;34m(\u001b[0m\u001b[0mnp\u001b[0m\u001b[0;34m.\u001b[0m\u001b[0mfloat64\u001b[0m\u001b[0;34m)\u001b[0m\u001b[0;34m\u001b[0m\u001b[0m\n\u001b[1;32m     26\u001b[0m     \u001b[0mX_scaler\u001b[0m \u001b[0;34m=\u001b[0m \u001b[0mStandardScaler\u001b[0m\u001b[0;34m(\u001b[0m\u001b[0;34m)\u001b[0m\u001b[0;34m.\u001b[0m\u001b[0mfit\u001b[0m\u001b[0;34m(\u001b[0m\u001b[0mX\u001b[0m\u001b[0;34m)\u001b[0m\u001b[0;34m\u001b[0m\u001b[0m\n\u001b[0;32m---> 27\u001b[0;31m     \u001b[0mscaled_X\u001b[0m \u001b[0;34m=\u001b[0m \u001b[0mX_scaler\u001b[0m\u001b[0;34m.\u001b[0m\u001b[0mtransform\u001b[0m\u001b[0;34m(\u001b[0m\u001b[0mX\u001b[0m\u001b[0;34m)\u001b[0m\u001b[0;34m\u001b[0m\u001b[0m\n\u001b[0m\u001b[1;32m     28\u001b[0m \u001b[0;34m\u001b[0m\u001b[0m\n\u001b[1;32m     29\u001b[0m     y = np.hstack((np.ones(len(car_features)),\n",
      "\u001b[0;32m/Users/hsin-cheng/anaconda3/envs/carnd-term1/lib/python3.5/site-packages/sklearn/preprocessing/data.py\u001b[0m in \u001b[0;36mtransform\u001b[0;34m(self, X, y, copy)\u001b[0m\n\u001b[1;32m    644\u001b[0m         X = check_array(X, accept_sparse='csr', copy=copy,\n\u001b[1;32m    645\u001b[0m                         \u001b[0mensure_2d\u001b[0m\u001b[0;34m=\u001b[0m\u001b[0;32mFalse\u001b[0m\u001b[0;34m,\u001b[0m \u001b[0mwarn_on_dtype\u001b[0m\u001b[0;34m=\u001b[0m\u001b[0;32mTrue\u001b[0m\u001b[0;34m,\u001b[0m\u001b[0;34m\u001b[0m\u001b[0m\n\u001b[0;32m--> 646\u001b[0;31m                         estimator=self, dtype=FLOAT_DTYPES)\n\u001b[0m\u001b[1;32m    647\u001b[0m \u001b[0;34m\u001b[0m\u001b[0m\n\u001b[1;32m    648\u001b[0m         \u001b[0;32mif\u001b[0m \u001b[0mX\u001b[0m\u001b[0;34m.\u001b[0m\u001b[0mndim\u001b[0m \u001b[0;34m==\u001b[0m \u001b[0;36m1\u001b[0m\u001b[0;34m:\u001b[0m\u001b[0;34m\u001b[0m\u001b[0m\n",
      "\u001b[0;32m/Users/hsin-cheng/anaconda3/envs/carnd-term1/lib/python3.5/site-packages/sklearn/utils/validation.py\u001b[0m in \u001b[0;36mcheck_array\u001b[0;34m(array, accept_sparse, dtype, order, copy, force_all_finite, ensure_2d, allow_nd, ensure_min_samples, ensure_min_features, warn_on_dtype, estimator)\u001b[0m\n\u001b[1;32m    380\u001b[0m                                       force_all_finite)\n\u001b[1;32m    381\u001b[0m     \u001b[0;32melse\u001b[0m\u001b[0;34m:\u001b[0m\u001b[0;34m\u001b[0m\u001b[0m\n\u001b[0;32m--> 382\u001b[0;31m         \u001b[0marray\u001b[0m \u001b[0;34m=\u001b[0m \u001b[0mnp\u001b[0m\u001b[0;34m.\u001b[0m\u001b[0marray\u001b[0m\u001b[0;34m(\u001b[0m\u001b[0marray\u001b[0m\u001b[0;34m,\u001b[0m \u001b[0mdtype\u001b[0m\u001b[0;34m=\u001b[0m\u001b[0mdtype\u001b[0m\u001b[0;34m,\u001b[0m \u001b[0morder\u001b[0m\u001b[0;34m=\u001b[0m\u001b[0morder\u001b[0m\u001b[0;34m,\u001b[0m \u001b[0mcopy\u001b[0m\u001b[0;34m=\u001b[0m\u001b[0mcopy\u001b[0m\u001b[0;34m)\u001b[0m\u001b[0;34m\u001b[0m\u001b[0m\n\u001b[0m\u001b[1;32m    383\u001b[0m \u001b[0;34m\u001b[0m\u001b[0m\n\u001b[1;32m    384\u001b[0m         \u001b[0;32mif\u001b[0m \u001b[0mensure_2d\u001b[0m\u001b[0;34m:\u001b[0m\u001b[0;34m\u001b[0m\u001b[0m\n",
      "\u001b[0;31mKeyboardInterrupt\u001b[0m: "
     ]
    }
   ],
   "source": [
    "# Test training on bin_spatial features with SVM\n",
    "hog_kwargs = {\n",
    "    'orient': 9,\n",
    "    'pix_per_cell': 8, \n",
    "    'cell_per_block': 2,\n",
    "}\n",
    "\n",
    "\n",
    "def extract_features(img, cspace='RGB'):\n",
    "    img = cv2.imread(img)\n",
    "    convertor = convertors[cspace]\n",
    "    cvt_img = cv2.cvtColor(img, convertor)\n",
    "    channel1 = get_hog_features(cvt_img[:,:,0], **hog_kwargs).ravel()\n",
    "    channel2 = get_hog_features(cvt_img[:,:,1], **hog_kwargs).ravel()\n",
    "    channel3 = get_hog_features(cvt_img[:,:,2], **hog_kwargs).ravel()\n",
    "\n",
    "    return np.concatenate((channel1, channel2, channel3))\n",
    "\n",
    "\n",
    "def train_with_hog_features(cspace='RGB'):\n",
    "    car_features = np.array([extract_features(img, cspace=cspace) for img in vehicle_imgs])\n",
    "    noncar_features= np.array([extract_features(img, cspace=cspace) for img in nonvehicle_imgs])\n",
    "\n",
    "    # define labels\n",
    "    X = np.vstack((car_features, noncar_features)).astype(np.float64)\n",
    "    X_scaler = StandardScaler().fit(X)\n",
    "    scaled_X = X_scaler.transform(X)\n",
    "\n",
    "    y = np.hstack((np.ones(len(car_features)),\n",
    "                   np.zeros(len(noncar_features))))\n",
    "\n",
    "    # train test split\n",
    "    rand_state = np.random.randint(0, 100)\n",
    "    X_train, X_test, y_train, y_test = train_test_split(\n",
    "        scaled_X, y, test_size=0.2, random_state=rand_state)\n",
    "\n",
    "    svc = LinearSVC()\n",
    "    t1 = time.time()\n",
    "    svc.fit(X_train, y_train)\n",
    "    t2 = time.time()\n",
    "    \n",
    "    duration = round(t2-t1, 2)\n",
    "    accuracy = svc.score(X_test, y_test)\n",
    "    print('| %s | %.2f | %.4f |' % (cspace, duration, accuracy))\n",
    "\n",
    "    \n",
    "# print(hog_kwargs)\n",
    "# for key in convertors:\n",
    "#     train_with_hog_features(cspace=key)"
   ]
  },
  {
   "cell_type": "markdown",
   "metadata": {
    "deletable": true,
    "editable": true
   },
   "source": [
    "## Some experiment on HOG features\n",
    "\n",
    "#### All channels pix_per_cell:8  cells_per_block: 1\n",
    "| Color space | Time to train | Accuracy |\n",
    "|-------------|----------|---------------|\n",
    "| HLS | 4.61 | 0.9747 |\n",
    "| RGB | 6.71 | 0.9459 |\n",
    "| Luv | 4.40 | 0.9800 |\n",
    "| YCrCb | 4.16 | 0.9831 |\n",
    "| YUV | 4.08 | 0.9809 |\n",
    "| Lab | 4.30 | 0.9809 |\n",
    "\n",
    "\n",
    "#### All channels pix_per_cell:8  cells_per_block: 2\n",
    "| Color space | Time to train | Accuracy |\n",
    "|-------------|----------|---------------|\n",
    "| HLS | 20.79 | 0.9811 |\n",
    "| RGB | 27.44 | 0.9682 |\n",
    "| Luv | 17.99 | 0.9806 |\n",
    "| YCrCb | 21.87 | 0.9876 |\n",
    "| YUV | 14.93 | 0.9890 |\n",
    "| Lab | 16.07 | 0.9848 |\n",
    "\n",
    "#### {'orient': 9, 'cell_per_block': 3, 'pix_per_cell': 8}\n",
    "| Color space | Time to train | Accuracy |\n",
    "|-------------|----------|---------------|\n",
    "| HLS | 37.08 | 0.9775 |\n",
    "| RGB | 42.40 | 0.9724 |\n",
    "| Luv | 29.24 | 0.9859 |\n",
    "| YCrCb | 23.50 | 0.9865 |\n",
    "| YUV | 21.18 | 0.9873 |\n",
    "| Lab | 33.71 | 0.9851 |\n",
    "\n",
    "#### {'orient': 12, 'cell_per_block': 1, 'pix_per_cell': 8}\n",
    "| Color space | Time to train | Accuracy |\n",
    "|-------------|----------|---------------|\n",
    "| HLS | 7.40 | 0.9820 |\n",
    "| Lab | 6.37 | 0.9851 |\n",
    "| YCrCb | 6.19 | 0.9845 |\n",
    "| Luv | 7.47 | 0.9865 |\n",
    "| YUV | 6.70 | 0.9882 |\n",
    "| RGB | 11.27 | 0.9392 |\n",
    "\n"
   ]
  },
  {
   "cell_type": "markdown",
   "metadata": {
    "deletable": true,
    "editable": true
   },
   "source": [
    "## Step 5: Combine all features\n",
    "\n"
   ]
  },
  {
   "cell_type": "code",
   "execution_count": 9,
   "metadata": {
    "collapsed": false,
    "deletable": true,
    "editable": true
   },
   "outputs": [],
   "source": [
    "# feature selection\n",
    "from sklearn.feature_selection import SelectFromModel\n",
    "import time\n",
    "\n",
    "\n",
    "def extract_features(img, cspace='Luv'):\n",
    "    img = cv2.imread(img)\n",
    "    convertor = convertors[cspace]\n",
    "    cvt_img = cv2.cvtColor(img, convertor)\n",
    "    \n",
    "    hist_features = color_hist(cvt_img)\n",
    "    bin_features = bin_spatial(cvt_img)\n",
    "    channel1 = get_hog_features(cvt_img[:,:,0]).ravel()\n",
    "    channel2 = get_hog_features(cvt_img[:,:,1]).ravel()\n",
    "    channel3 = get_hog_features(cvt_img[:,:,2]).ravel()\n",
    "\n",
    "    return np.concatenate((hist_features, bin_features, channel1, channel2, channel3))\n",
    "\n",
    "\n",
    "def train_all_features(cspace='RGB'):\n",
    "    t = time.time()\n",
    "    car_features = np.array([extract_features(img, cspace=cspace) for img in vehicle_imgs])\n",
    "    noncar_features= np.array([extract_features(img, cspace=cspace) for img in nonvehicle_imgs])\n",
    "    t0 = time.time()\n",
    "    extract_duration = t0 - t\n",
    "    \n",
    "    # define features\n",
    "    X = np.vstack((car_features, noncar_features)).astype(np.float64)\n",
    "    X_scaler = StandardScaler().fit(X)\n",
    "    scaled_X = X_scaler.transform(X)\n",
    "    # define labels\n",
    "    y = np.hstack((np.ones(len(car_features)),\n",
    "                   np.zeros(len(noncar_features))))\n",
    "\n",
    "    rand_state = np.random.randint(0, 100)\n",
    "    X_train, X_test, y_train, y_test = train_test_split(\n",
    "        scaled_X, y, test_size=0.2, random_state=rand_state)\n",
    "\n",
    "    svc = LinearSVC()\n",
    "    t1 = time.time()\n",
    "    svc.fit(X_train, y_train)\n",
    "    t2 = time.time()\n",
    "\n",
    "    train_duration = round(t2-t1, 2)\n",
    "    t3 = time.time()\n",
    "    accuracy = svc.score(X_test, y_test)\n",
    "    t4 = time.time()\n",
    "    score_duration = round(t4-t3, 2)\n",
    "    print('| %s | %.2f | %.2f | %.2f | %.4f |' % (cspace, extract_duration, train_duration, score_duration, accuracy))\n",
    "\n",
    "# for key in convertors:\n",
    "#     train_all_features(cspace=key)"
   ]
  },
  {
   "cell_type": "markdown",
   "metadata": {
    "deletable": true,
    "editable": true
   },
   "source": [
    "| Color space | Feature extraction | Training time | Predict Time | Accuract |\n",
    "|-------|-------|-------|-------|-------|\n",
    "| HLS | 63.47 | 19.83 | 0.14 | 0.9930 |\n",
    "| Lab | 68.27 | 5.93 | 0.13 | 0.9932 |\n",
    "| YCrCb | 67.36 | 7.53 | 0.57 | 0.9910 |\n",
    "| Luv | 68.92 | 5.86 | 0.42 | 0.9924 |\n",
    "| YUV | 68.31 | 18.21 | 0.56 | 0.9932 |\n",
    "| RGB | 67.82 | 21.92 | 0.58 | 0.9879 |"
   ]
  },
  {
   "cell_type": "markdown",
   "metadata": {
    "deletable": true,
    "editable": true
   },
   "source": [
    "## Save trained model"
   ]
  },
  {
   "cell_type": "code",
   "execution_count": 10,
   "metadata": {
    "collapsed": false,
    "deletable": true,
    "editable": true
   },
   "outputs": [
    {
     "name": "stdout",
     "output_type": "stream",
     "text": [
      "| Color space | Feature extraction | Training time | Predict Time | Accuract |\n",
      "|-------|-------|-------|-------|-------|\n",
      "| HLS | 102.29 | 34.69 | 0.25 | 0.9907 |\n"
     ]
    }
   ],
   "source": [
    "import pickle\n",
    "\n",
    "scv = None\n",
    "X_scaler = None\n",
    "orient = 9\n",
    "pix_per_cell = 8\n",
    "cell_per_block = 2\n",
    "spatial_size = (16, 16)\n",
    "hist_bins = 128\n",
    "color_space = 'HLS'\n",
    "\n",
    "\n",
    "def extract_features(img, cspace='HLS'):\n",
    "    img = cv2.imread(img)\n",
    "    convertor = convertors[cspace]\n",
    "    cvt_img = cv2.cvtColor(img, convertor)\n",
    "    \n",
    "    hist_features = color_hist(cvt_img, nbins=hist_bins)\n",
    "    bin_features = bin_spatial(cvt_img, size=spatial_size)\n",
    "    hog_kwargs = {\n",
    "        'orient': orient,\n",
    "        'pix_per_cell': pix_per_cell, \n",
    "        'cell_per_block': cell_per_block,\n",
    "    }\n",
    "    \n",
    "    channel1 = get_hog_features(cvt_img[:,:,0], **hog_kwargs).ravel()\n",
    "    channel2 = get_hog_features(cvt_img[:,:,1], **hog_kwargs).ravel()\n",
    "    channel3 = get_hog_features(cvt_img[:,:,2], **hog_kwargs).ravel()\n",
    "\n",
    "    return np.concatenate((hist_features, bin_features, channel1, channel2, channel3))\n",
    "\n",
    "\n",
    "t0 = time.time()\n",
    "car_features = np.array([extract_features(img, cspace=color_space) for img in vehicle_imgs])\n",
    "noncar_features= np.array([extract_features(img, cspace=color_space) for img in nonvehicle_imgs])\n",
    "t1 = time.time()\n",
    "extract_duration = round(t1 - t0, 2)\n",
    "\n",
    "# define features\n",
    "X = np.vstack((car_features, noncar_features)).astype(np.float64)\n",
    "X_scaler = StandardScaler().fit(X)\n",
    "scaled_X = X_scaler.transform(X)\n",
    "# define labels\n",
    "y = np.hstack((np.ones(len(car_features)),\n",
    "               np.zeros(len(noncar_features))))\n",
    "\n",
    "rand_state = np.random.randint(0, 101)\n",
    "X_train, X_test, y_train, y_test = train_test_split(\n",
    "    scaled_X, y, test_size=0.2, random_state=rand_state)\n",
    "\n",
    "svc = LinearSVC()\n",
    "t2 = time.time()\n",
    "svc.fit(X_train, y_train)\n",
    "t3 = time.time()\n",
    "\n",
    "train_duration = round(t3-t2, 2)\n",
    "t4 = time.time()\n",
    "accuracy = svc.score(X_test, y_test)\n",
    "t5 = time.time()\n",
    "score_duration = round(t5-t4, 2)\n",
    "\n",
    "print('| Color space | Feature extraction | Training time | Predict Time | Accuract |')\n",
    "print('|-------|-------|-------|-------|-------|')\n",
    "print('| %s | %.2f | %.2f | %.2f | %.4f |' % (color_space, extract_duration, train_duration, score_duration, accuracy))\n",
    "\n",
    "\n",
    "data_pickle = {\n",
    "    'svc': svc,\n",
    "    'scaler': X_scaler,\n",
    "    'orient': orient,\n",
    "    'pix_per_cell': pix_per_cell,\n",
    "    'cell_per_block': cell_per_block,\n",
    "    'spatial_size': spatial_size,\n",
    "    'hist_bins': hist_bins,\n",
    "    'color_space': color_space,\n",
    "}\n",
    "\n",
    "filename = 'svc_pickle.p'\n",
    "with open(filename, 'wb') as f:\n",
    "    pickle.dump(data_pickle, f)\n",
    "    print('params saved to %s' % filename)\n"
   ]
  },
  {
   "cell_type": "markdown",
   "metadata": {
    "deletable": true,
    "editable": true
   },
   "source": [
    "## Feature selection using decision tree\n",
    "from 8460 features to 139 features"
   ]
  },
  {
   "cell_type": "code",
   "execution_count": null,
   "metadata": {
    "collapsed": false,
    "deletable": true,
    "editable": true
   },
   "outputs": [],
   "source": [
    "from sklearn.svm import SVC\n",
    "from sklearn.tree import DecisionTreeClassifier\n",
    "\n",
    "# rand_state = np.random.randint(0, 100)\n",
    "# X_train, X_test, y_train, y_test = train_test_split(\n",
    "#     scaled_X, y, test_size=0.2, random_state=rand_state)\n",
    "\n",
    "# t = time.time()\n",
    "# svc1 = LinearSVC()\n",
    "# svc1.fit(X_train, y_train)\n",
    "# t2 = time.time()\n",
    "# print('Test Accuracy of SVC1 = ', svc1.score(X_test, y_test))\n",
    "# t3 = time.time()\n",
    "# print(round(t2-t, 2), 'Seconds to train SVC...')\n",
    "# print(round(t3-t2, 2), 'Seconds to score SVC...')\n",
    "\n",
    "# tree_clf = DecisionTreeClassifier()\n",
    "# tree_clf.fit(X_train, y_train)\n",
    "\n",
    "# print('Feature selection with decision tree')\n",
    "# feature_select = SelectFromModel(tree_clf, prefit=True)\n",
    "# X_train_new = feature_select.transform(X_train)\n",
    "# X_test_new = feature_select.transform(X_test)\n",
    "# print(X_train.shape)\n",
    "# print(X_train_new.shape)\n",
    "\n",
    "# t = time.time()\n",
    "# svc2 = LinearSVC()\n",
    "# svc2.fit(X_train_new, y_train)\n",
    "# t2 = time.time()\n",
    "# print('Test Accuracy of SVC2 = ', svc2.score(X_test_new, y_test))\n",
    "# t3 = time.time()\n",
    "# print(round(t2-t, 2), 'Seconds to train SVC2...')\n",
    "# print(round(t3-t2, 2), 'Seconds to score SVC...')"
   ]
  },
  {
   "cell_type": "code",
   "execution_count": null,
   "metadata": {
    "collapsed": true,
    "deletable": true,
    "editable": true
   },
   "outputs": [],
   "source": []
  }
 ],
 "metadata": {
  "kernelspec": {
   "display_name": "Python 3",
   "language": "python",
   "name": "python3"
  },
  "language_info": {
   "codemirror_mode": {
    "name": "ipython",
    "version": 3
   },
   "file_extension": ".py",
   "mimetype": "text/x-python",
   "name": "python",
   "nbconvert_exporter": "python",
   "pygments_lexer": "ipython3",
   "version": "3.5.2"
  },
  "widgets": {
   "state": {},
   "version": "1.1.2"
  }
 },
 "nbformat": 4,
 "nbformat_minor": 2
}
