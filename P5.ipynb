{
 "cells": [
  {
   "cell_type": "markdown",
   "metadata": {
    "deletable": true,
    "editable": true
   },
   "source": [
    "# Project 5 Vehicle Detection\n",
    "\n",
    "**Author: olala7846@gmail.com**"
   ]
  },
  {
   "cell_type": "markdown",
   "metadata": {
    "deletable": true,
    "editable": true
   },
   "source": [
    "## Step 1: train a image vehicle classifier"
   ]
  },
  {
   "cell_type": "code",
   "execution_count": 1,
   "metadata": {
    "collapsed": false,
    "deletable": true,
    "editable": true
   },
   "outputs": [
    {
     "name": "stdout",
     "output_type": "stream",
     "text": [
      "Total 8792 vehicle images\n",
      "Total 8968 non-vehicle images\n",
      "There are about the same size of both classes\n",
      "images has shape (64, 64, 3) and dtype uint8\n",
      "Pixel value range approximately from 255 to 2\n"
     ]
    }
   ],
   "source": [
    "# first do some training data observation\n",
    "import numpy as np\n",
    "import cv2\n",
    "import glob\n",
    "import matplotlib.pyplot as plt\n",
    "import random\n",
    "\n",
    "\n",
    "vehicle_imgs = list(glob.glob('./vehicles/**/*.png'))\n",
    "nonvehicle_imgs = list(glob.glob('./non-vehicles/**/*.png'))\n",
    "\n",
    "print('Total %d vehicle images' % len(vehicle_imgs))\n",
    "print('Total %d non-vehicle images' % len(nonvehicle_imgs))\n",
    "print('There are about the same size of both classes')\n",
    "\n",
    "sample_img = random.sample(vehicle_imgs, 1)[0]\n",
    "img = cv2.imread(sample_img)\n",
    "print('images has shape', img.shape, 'and dtype', img.dtype)\n",
    "print('Pixel value range approximately from', np.max(img), 'to', np.min(img))"
   ]
  },
  {
   "cell_type": "code",
   "execution_count": 2,
   "metadata": {
    "collapsed": false,
    "deletable": true,
    "editable": true
   },
   "outputs": [],
   "source": [
    "# Explore different color space\n",
    "from mpl_toolkits.mplot3d import Axes3D\n",
    "\n",
    "def plot3d(car_pixels, non_car_pixels):\n",
    "    \"\"\"Plot pixels in 3D\"\"\"\n",
    "    fig = plt.figure(figsize=(8, 8))\n",
    "    ax = Axes3D(fig)\n",
    "    \n",
    "    all_pixels = np.vstack((car_pixels, non_car_pixels))\n",
    "\n",
    "    # Set axis limits\n",
    "    ax.set_xlim(np.min(all_pixels[:, 0]), np.max(all_pixels[:, 0]))\n",
    "    ax.set_ylim(np.min(all_pixels[:, 1]), np.max(all_pixels[:, 1]))\n",
    "    ax.set_zlim(np.min(all_pixels[:, 2]), np.max(all_pixels[:, 2]))\n",
    "\n",
    "    ax.scatter(\n",
    "        car_pixels[:, 0].ravel(),\n",
    "        car_pixels[:, 1].ravel(),\n",
    "        car_pixels[:, 2].ravel(),\n",
    "        c='g', edgecolors='none')\n",
    "\n",
    "    ax.scatter(\n",
    "        non_car_pixels[:, 0].ravel(),\n",
    "        non_car_pixels[:, 1].ravel(),\n",
    "        non_car_pixels[:, 2].ravel(),\n",
    "        c='r', edgecolors='none')\n",
    "    \n",
    "    return ax\n",
    "\n",
    "def observe_colorspace():\n",
    "    sample_car_imgs = random.sample(vehicle_imgs, 100)\n",
    "    sample_noncar_imgs = random.sample(nonvehicle_imgs, 100)\n",
    "\n",
    "    convertors = {\n",
    "        'RGB': cv2.COLOR_BGR2RGB,\n",
    "        'HLS': cv2.COLOR_BGR2HLS,\n",
    "        'YUV': cv2.COLOR_BGR2YUV,\n",
    "        'YCrCb': cv2.COLOR_BGR2YCrCb,\n",
    "        'Lab': cv2.COLOR_BGR2Lab,\n",
    "        'Luv': cv2.COLOR_BGR2Luv,\n",
    "    }\n",
    "\n",
    "    for name, convertor in convertors.items():\n",
    "        car_pixels = []\n",
    "        noncar_pixels = []\n",
    "\n",
    "        samples_per_pic = 10\n",
    "\n",
    "        for car_img in sample_car_imgs:\n",
    "            img = cv2.imread(car_img)\n",
    "            img = cv2.cvtColor(img, convertor)\n",
    "            pixels = np.reshape(img, (-1, 3))\n",
    "            sample_pixels = random.sample(list(pixels), samples_per_pic)\n",
    "            car_pixels.append(sample_pixels)\n",
    "\n",
    "        for noncar_img in sample_noncar_imgs:\n",
    "            img = cv2.imread(noncar_img)\n",
    "            img = cv2.cvtColor(img, convertor)\n",
    "            pixels = np.reshape(img, (-1, 3))\n",
    "            sample_pixels = random.sample(list(pixels), samples_per_pic)\n",
    "            noncar_pixels.append(sample_pixels)\n",
    "\n",
    "        car_pixels = np.vstack(car_pixels)\n",
    "        noncar_pixels = np.vstack(noncar_pixels)\n",
    "\n",
    "        ax = plot3d(car_pixels, noncar_pixels)\n",
    "        plt.title(name)\n",
    "#        # plot different view points\n",
    "#         for ii in range(0,360,5):\n",
    "#             ax.view_init(elev=10., azim=ii)\n",
    "#             plt.savefig(\"./color_spaces/%s%d.png\" % (name, ii))\n",
    "        \n",
    "        \n",
    "#observe_colorspace()"
   ]
  },
  {
   "cell_type": "markdown",
   "metadata": {
    "deletable": true,
    "editable": true
   },
   "source": [
    "### Color space\n",
    "After tested on mandy color spaces, it's easy to see that some (e.g. RGB, HLS) does a better job seperating vehicle and non-vehicle images. I will choose HLS as the color space for histogram of color."
   ]
  },
  {
   "cell_type": "code",
   "execution_count": 3,
   "metadata": {
    "collapsed": false,
    "deletable": true,
    "editable": true
   },
   "outputs": [
    {
     "name": "stdout",
     "output_type": "stream",
     "text": [
      "reading  ./vehicles/GTI_Far/image0000.png\n"
     ]
    },
    {
     "data": {
      "image/png": "[encoded data removed]",
      "text/plain": [
       "<matplotlib.figure.Figure at 0x111fa3a58>"
      ]
     },
     "metadata": {},
     "output_type": "display_data"
    }
   ],
   "source": [
    "# Extact color histogram features\n",
    "def color_hist(img, nbins=32, bins_range=(0, 256), color_space='RGB', visualize=False):\n",
    "    convertors = {\n",
    "        'RGB': cv2.COLOR_BGR2RGB,\n",
    "        'HLS': cv2.COLOR_BGR2HLS,\n",
    "        'YUV': cv2.COLOR_BGR2YUV,\n",
    "        'YCrCb': cv2.COLOR_BGR2YCrCb,\n",
    "        'Lab': cv2.COLOR_BGR2Lab,\n",
    "        'Luv': cv2.COLOR_BGR2Luv,\n",
    "    }\n",
    "    convertor = convertors[color_space]\n",
    "    img = cv2.cvtColor(img, convertor)\n",
    "    hist0 = np.histogram(img[:,:,0], bins=nbins, range=bins_range)\n",
    "    hist1 = np.histogram(img[:,:,1], bins=nbins, range=bins_range)\n",
    "    hist2 = np.histogram(img[:,:,2], bins=nbins, range=bins_range)\n",
    "    \n",
    "    if visualize:\n",
    "        return hist0, hist1, hist2\n",
    "    else:\n",
    "        return np.concatenate((hist0[0], hist1[0], hist2[0]))\n",
    "    \n",
    "img_name = vehicle_imgs[0]\n",
    "print('reading ', img_name)\n",
    "img = cv2.imread(vehicle_imgs[0])\n",
    "hist1, hist2, hist3 = color_hist(img, color_space='RGB', visualize=True)\n",
    "\n",
    "# visualize histogram\n",
    "bin_edges = hist1[1]\n",
    "bin_centers = (bin_edges[1:] + bin_edges[0:len(bin_edges)-1])/2\n",
    "\n",
    "fig = plt.figure(figsize=(12,3))\n",
    "plt.subplot(131)\n",
    "plt.bar(bin_centers, hist1[0])\n",
    "plt.xlim(0, 256)\n",
    "plt.title('H histogram')\n",
    "plt.subplot(132)\n",
    "plt.bar(bin_centers, hist2[0])\n",
    "plt.xlim(0, 256)\n",
    "plt.title('L hist')\n",
    "plt.subplot(133)\n",
    "plt.bar(bin_centers, hist3[0])\n",
    "plt.xlim(0, 256)\n",
    "plt.title('S histogram')\n",
    "plt.show()"
   ]
  },
  {
   "cell_type": "code",
   "execution_count": 4,
   "metadata": {
    "collapsed": true,
    "deletable": true,
    "editable": true
   },
   "outputs": [],
   "source": [
    "# Spatial bin\n",
    "def bin_spatial(img, color_space='RGB', size=(32, 32)):\n",
    "    convertors = {\n",
    "        'RGB': cv2.COLOR_BGR2RGB,\n",
    "        'HLS': cv2.COLOR_BGR2HLS,\n",
    "        'YUV': cv2.COLOR_BGR2YUV,\n",
    "        'YCrCb': cv2.COLOR_BGR2YCrCb,\n",
    "        'Lab': cv2.COLOR_BGR2Lab,\n",
    "        'Luv': cv2.COLOR_BGR2Luv,\n",
    "    }\n",
    "    convertor = convertors[color_space]\n",
    "    feature_img = cv2.cvtColor(img, convertor)\n",
    "    features = cv2.resize(feature_img, size).ravel()\n",
    "    return features\n"
   ]
  },
  {
   "cell_type": "code",
   "execution_count": 5,
   "metadata": {
    "collapsed": false,
    "deletable": true,
    "editable": true
   },
   "outputs": [
    {
     "name": "stdout",
     "output_type": "stream",
     "text": [
      "(17760, 3168) (17760,)\n"
     ]
    }
   ],
   "source": [
    "# Prepare training data\n",
    "from sklearn.preprocessing import StandardScaler\n",
    "\n",
    "def extract_features(img, color_space='Luv'):\n",
    "    img = cv2.imread(img)\n",
    "    color_hist_features = color_hist(img, color_space='Luv')\n",
    "    bin_spatial_features = bin_spatial(img, color_space='RGB')\n",
    "    return np.concatenate((color_hist_features, bin_spatial_features))\n",
    "\n",
    "\n",
    "car_features = np.array([extract_features(img) for img in vehicle_imgs])\n",
    "noncar_features= np.array([extract_features(img) for img in nonvehicle_imgs])\n",
    "\n",
    "# define labels\n",
    "X = np.vstack((car_features, noncar_features)).astype(np.float64)\n",
    "X_scaler = StandardScaler().fit(X)\n",
    "scaled_X = X_scaler.transform(X)\n",
    "\n",
    "y = np.hstack((np.ones(len(car_features)),\n",
    "               np.zeros(len(noncar_features))))\n",
    "\n",
    "print(X.shape, y.shape)"
   ]
  },
  {
   "cell_type": "code",
   "execution_count": 6,
   "metadata": {
    "collapsed": false,
    "deletable": true,
    "editable": true
   },
   "outputs": [
    {
     "name": "stdout",
     "output_type": "stream",
     "text": [
      "Test Accuracy of SVC =  0.959459459459\n"
     ]
    }
   ],
   "source": [
    "# train classifier with SVM\n",
    "from sklearn.svm import LinearSVC\n",
    "from sklearn.model_selection import train_test_split\n",
    "\n",
    "rand_state = np.random.randint(0, 100)\n",
    "X_train, X_test, y_train, y_test = train_test_split(\n",
    "    scaled_X, y, test_size=0.2, random_state=rand_state)\n",
    "\n",
    "svc = LinearSVC()\n",
    "svc.fit(X_train, y_train)\n",
    "\n",
    "print('Test Accuracy of SVC = ', svc.score(X_test, y_test))"
   ]
  },
  {
   "cell_type": "markdown",
   "metadata": {
    "deletable": true,
    "editable": true
   },
   "source": [
    "## Some experiment on color spaces\n",
    "| Color space | Accuracy | Accuracy Only using color hist | Accuracy only using spatial bin |\n",
    "|-------------|----------|--------------------------------|---------------------------------|\n",
    "| RGB         | 0.9535   | 0.911599                       | 0.916666                        |\n",
    "| HLS         | 0.94     | 0.9442567                      | 0.878378                        |\n",
    "| YUV         | 0.95326  | 0.91019                        | 0.900619                        |\n",
    "| YCrCb       | 0.9493   | 0.920608                       | 0.90625                         |\n",
    "| Lab         | 0.95777  | 0.94284                        | 0.904560                        |\n",
    "| Luv         | 0.94876  | 0.948761                       | 0.907094                        |"
   ]
  },
  {
   "cell_type": "markdown",
   "metadata": {
    "deletable": true,
    "editable": true
   },
   "source": [
    "## Classifier\n",
    "We get 0.9538 accuracy only using color features!\n",
    "|---\n"
   ]
  },
  {
   "cell_type": "code",
   "execution_count": 7,
   "metadata": {
    "collapsed": false,
    "deletable": true,
    "editable": true
   },
   "outputs": [
    {
     "data": {
      "image/png": "[encoded data removed]",
      "text/plain": [
       "<matplotlib.figure.Figure at 0x166d83d30>"
      ]
     },
     "metadata": {},
     "output_type": "display_data"
    }
   ],
   "source": [
    "# hog features\n",
    "from skimage.feature import hog\n",
    "\n",
    "def get_hog_features(img, orient=9, pix_per_cell=8, cell_per_block=2, vis=False, feature_vec=False):\n",
    "    return hog(\n",
    "        img, orient, \n",
    "        pixels_per_cell=(pix_per_cell, pix_per_cell),\n",
    "        cells_per_block=(cell_per_block, cell_per_block),\n",
    "        visualise=vis, feature_vector=feature_vec)\n",
    "\n",
    "\n",
    "img = cv2.imread(vehicle_imgs[100])\n",
    "gray = cv2.cvtColor(img, cv2.COLOR_RGB2GRAY)\n",
    "features, hog_image = get_hog_features(gray, vis=True)\n",
    "fig = plt.figure(figsize=(7,3))\n",
    "plt.subplot(121)\n",
    "plt.imshow(gray, cmap='gray')\n",
    "plt.subplot(122)\n",
    "plt.imshow(hog_image, cmap='gray')\n",
    "plt.show()"
   ]
  },
  {
   "cell_type": "code",
   "execution_count": 15,
   "metadata": {
    "collapsed": false,
    "deletable": true,
    "editable": true
   },
   "outputs": [
    {
     "name": "stdout",
     "output_type": "stream",
     "text": [
      "(17760, 5292) (17760,)\n",
      "Test Accuracy of SVC =  0.988738738739\n"
     ]
    }
   ],
   "source": [
    "# HOG feature extraction\n",
    "def extract_features(img):\n",
    "    img = cv2.imread(img)\n",
    "    img = cv2.cvtColor(img, cv2.COLOR_BGR2YCrCb)\n",
    "    Y_features = get_hog_features(img[:,:,0])\n",
    "    Cr_features = get_hog_features(img[:,:,1])\n",
    "    Cb_features = get_hog_features(img[:,:,2])\n",
    "    features = np.concatenate((Y_features, Cr_features, Cb_features))\n",
    "    return features.ravel()\n",
    "\n",
    "car_features = np.array([extract_features(img) for img in vehicle_imgs])\n",
    "noncar_features= np.array([extract_features(img) for img in nonvehicle_imgs])\n",
    "\n",
    "# define labels\n",
    "X = np.vstack((car_features, noncar_features)).astype(np.float64)\n",
    "X_scaler = StandardScaler().fit(X)\n",
    "scaled_X = X_scaler.transform(X)\n",
    "\n",
    "y = np.hstack((np.ones(len(car_features)),\n",
    "               np.zeros(len(noncar_features))))\n",
    "\n",
    "print(X.shape, y.shape)\n",
    "\n",
    "rand_state = np.random.randint(0, 100)\n",
    "X_train, X_test, y_train, y_test = train_test_split(\n",
    "    scaled_X, y, test_size=0.2, random_state=rand_state)\n",
    "\n",
    "svc = LinearSVC()\n",
    "svc.fit(X_train, y_train)\n",
    "\n",
    "print('Test Accuracy of SVC = ', svc.score(X_test, y_test))"
   ]
  },
  {
   "cell_type": "markdown",
   "metadata": {
    "deletable": true,
    "editable": true
   },
   "source": [
    "## Some experiment on HOG features\n",
    "| Color space | Accuracy |\n",
    "|-------------|----------|\n",
    "| Gray        | 0.9555   |\n",
    "| H(HLS)      | 0.9203   |\n",
    "| L(HLS)      | 0.9484   |\n",
    "| S(HLS)      | 0.9031   |\n",
    "| Y(YUV)      | 0.9527   |\n",
    "| U(YUV)      | 0.9304   |\n",
    "| V(YUV)      | 0.9020   |\n",
    "| Y(YCrCb)    | 0.9518   |\n",
    "| Cr(YCrCb)   | 0.9256   |\n",
    "| Cb(YCrCb)   | 0.9090   |\n",
    "| YCrCb(All)  | 0.9887   |\n"
   ]
  },
  {
   "cell_type": "code",
   "execution_count": 17,
   "metadata": {
    "collapsed": false,
    "deletable": true,
    "editable": true
   },
   "outputs": [
    {
     "name": "stdout",
     "output_type": "stream",
     "text": [
      "(17760, 8460) (17760,)\n"
     ]
    }
   ],
   "source": [
    "# feature selection\n",
    "from sklearn.feature_selection import SelectFromModel\n",
    "import time\n",
    "\n",
    "\n",
    "def extract_features(img, color_space='Luv'):\n",
    "    img = cv2.imread(img)\n",
    "    color_hist_features = color_hist(img, color_space='Luv')\n",
    "    bin_spatial_features = bin_spatial(img, color_space='RGB')\n",
    "    \n",
    "    img = cv2.cvtColor(img, cv2.COLOR_BGR2YCrCb)\n",
    "    Y_features = get_hog_features(img[:,:,0]).ravel()\n",
    "    Cr_features = get_hog_features(img[:,:,1]).ravel()\n",
    "    Cb_features = get_hog_features(img[:,:,2]).ravel()\n",
    "    return np.concatenate((color_hist_features, bin_spatial_features, Y_features, Cr_features, Cb_features))\n",
    "\n",
    "car_features = np.array([extract_features(img) for img in vehicle_imgs])\n",
    "noncar_features= np.array([extract_features(img) for img in nonvehicle_imgs])\n",
    "\n",
    "# define labels\n",
    "X = np.vstack((car_features, noncar_features)).astype(np.float64)\n",
    "X_scaler = StandardScaler().fit(X)\n",
    "scaled_X = X_scaler.transform(X)\n",
    "\n",
    "y = np.hstack((np.ones(len(car_features)),\n",
    "               np.zeros(len(noncar_features))))\n",
    "print(X.shape, y.shape)"
   ]
  },
  {
   "cell_type": "code",
   "execution_count": 19,
   "metadata": {
    "collapsed": false,
    "deletable": true,
    "editable": true
   },
   "outputs": [
    {
     "name": "stdout",
     "output_type": "stream",
     "text": [
      "Test Accuracy of SVC1 =  0.990427927928\n",
      "117.82 Seconds to train SVC...\n",
      "28.15 Seconds to score SVC...\n",
      "(14208, 8460)\n",
      "(14208, 139)\n",
      "Test Accuracy of SVC2 =  0.97972972973\n",
      "9.71 Seconds to train SVC2...\n",
      "0.31 Seconds to score SVC...\n"
     ]
    }
   ],
   "source": [
    "from sklearn.svm import SVC\n",
    "from sklearn.tree import DecisionTreeClassifier\n",
    "\n",
    "rand_state = np.random.randint(0, 100)\n",
    "X_train, X_test, y_train, y_test = train_test_split(\n",
    "    scaled_X, y, test_size=0.2, random_state=rand_state)\n",
    "\n",
    "kernel = 'linear'\n",
    "\n",
    "t = time.time()\n",
    "svc1 = SVC(kernel=kernel)\n",
    "svc1.fit(X_train, y_train)\n",
    "t2 = time.time()\n",
    "print('Test Accuracy of SVC1 = ', svc1.score(X_test, y_test))\n",
    "t3 = time.time()\n",
    "print(round(t2-t, 2), 'Seconds to train SVC...')\n",
    "print(round(t3-t2, 2), 'Seconds to score SVC...')\n",
    "\n",
    "tree_clf = DecisionTreeClassifier()\n",
    "tree_clf.fit(X_train, y_train)\n",
    "\n",
    "print('Feature selection with decision tree')\n",
    "feature_select = SelectFromModel(tree_clf, prefit=True)\n",
    "X_train_new = feature_select.transform(X_train)\n",
    "X_test_new = feature_select.transform(X_test)\n",
    "print(X_train.shape)\n",
    "print(X_train_new.shape)\n",
    "\n",
    "t = time.time()\n",
    "svc2 = SVC(kernel=kernel)\n",
    "svc2.fit(X_train_new, y_train)\n",
    "t2 = time.time()\n",
    "print('Test Accuracy of SVC2 = ', svc2.score(X_test_new, y_test))\n",
    "t3 = time.time()\n",
    "print(round(t2-t, 2), 'Seconds to train SVC2...')\n",
    "print(round(t3-t2, 2), 'Seconds to score SVC...')"
   ]
  },
  {
   "cell_type": "code",
   "execution_count": 20,
   "metadata": {
    "collapsed": false,
    "deletable": true,
    "editable": true
   },
   "outputs": [],
   "source": [
    "import pickle\n",
    "data = {\n",
    "    'feature_select': feature_select,\n",
    "    'classifier': svc2,\n",
    "}\n",
    "filename = 'classifier.pkl'\n",
    "with open(filename, 'wb') as f:\n",
    "    pickle.dump(data, f)"
   ]
  },
  {
   "cell_type": "markdown",
   "metadata": {},
   "source": [
    "## Feature selection using devision tree\n",
    "from 8460 features to 139 features"
   ]
  },
  {
   "cell_type": "code",
   "execution_count": null,
   "metadata": {
    "collapsed": true,
    "deletable": true,
    "editable": true
   },
   "outputs": [],
   "source": [
    "\n",
    "# Feature extraction\n",
    "# TODO(Olala)\n",
    "# 1. observe data\n",
    "# 2. extract features\n",
    "#     2.1 histogram on color space\n",
    "#     2.2 HOG features\n",
    "# 3. train classifier\n",
    "#     3.1 train test split\n",
    "#     3.2 test on different classifier parameters\n",
    "#     3.3 choose the best\n",
    "# 4. sliding window search\n",
    "#     4.1 sliding window with HOG features\n",
    "#     4.2 different sliding window size\n",
    "#     4.3 reduce false positive using heatmap\n",
    "# 5. run pipeline on video\n",
    "#     5.1 create detection pipeline\n",
    "#     5.2 reduce false positive using series of frames\n",
    "# 6. write report\n",
    "\n"
   ]
  },
  {
   "cell_type": "raw",
   "metadata": {
    "deletable": true,
    "editable": true
   },
   "source": []
  }
 ],
 "metadata": {
  "kernelspec": {
   "display_name": "Python 3",
   "language": "python",
   "name": "python3"
  },
  "language_info": {
   "codemirror_mode": {
    "name": "ipython",
    "version": 3
   },
   "file_extension": ".py",
   "mimetype": "text/x-python",
   "name": "python",
   "nbconvert_exporter": "python",
   "pygments_lexer": "ipython3",
   "version": "3.5.2"
  },
  "widgets": {
   "state": {},
   "version": "1.1.2"
  }
 },
 "nbformat": 4,
 "nbformat_minor": 2
}
